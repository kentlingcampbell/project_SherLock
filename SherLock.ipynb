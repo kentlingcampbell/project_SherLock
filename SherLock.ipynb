{
 "cells": [
  {
   "cell_type": "markdown",
   "id": "cc87e4d2",
   "metadata": {},
   "source": [
    "# SherLock"
   ]
  },
  {
   "cell_type": "markdown",
   "id": "34fcac76",
   "metadata": {},
   "source": [
    "## Load Libraries"
   ]
  },
  {
   "cell_type": "code",
   "execution_count": 1,
   "id": "247d99f6",
   "metadata": {},
   "outputs": [],
   "source": [
    "import pandas as pd\n",
    "import matplotlib.pylab as plt\n",
    "import seaborn as sns\n",
    "import numpy as np\n",
    "import datetime\n",
    "from sklearn.model_selection import train_test_split\n",
    "from sklearn.pipeline import Pipeline\n",
    "from sklearn.preprocessing import StandardScaler\n",
    "from sklearn.linear_model import LinearRegression\n",
    "import pickle"
   ]
  },
  {
   "cell_type": "code",
   "execution_count": 2,
   "id": "62b196e2",
   "metadata": {},
   "outputs": [],
   "source": [
    "pd.set_option('display.max_columns', None)"
   ]
  },
  {
   "cell_type": "markdown",
   "id": "02cc075a",
   "metadata": {},
   "source": [
    "## Load Data"
   ]
  },
  {
   "cell_type": "markdown",
   "id": "f2f26b3e",
   "metadata": {},
   "source": [
    "This will cycle through all the data found in the Kaggle subset data, 'archive'."
   ]
  },
  {
   "cell_type": "markdown",
   "id": "17dc0a33",
   "metadata": {},
   "source": [
    "### Functions Used"
   ]
  },
  {
   "cell_type": "code",
   "execution_count": 3,
   "id": "d38e144c",
   "metadata": {},
   "outputs": [],
   "source": [
    "# Functions\n",
    "def editTextFile(f):\n",
    "    # Read in the file\n",
    "    with open(f, 'r') as file:\n",
    "        filedata = file.read()\n",
    "\n",
    "    # Replace the target string\n",
    "    filedata = filedata.replace('[msec],size', '[msec];size')\n",
    "\n",
    "    # Write the file out again\n",
    "    with open('editTextFile.txt', 'w') as file:\n",
    "        file.write(filedata)\n",
    "        \n",
    "def magVector(df,col1,col2,col3):\n",
    "    # Calculate magnitude of vector - SQRT(X^2 + Y^2 + Z^2)\n",
    "    return ((df[col1].pow(2) + df[col2].pow(2) + df[col3].pow(2)).pow(1/2))        "
   ]
  },
  {
   "cell_type": "markdown",
   "id": "d2b29108",
   "metadata": {},
   "source": [
    "### Loading"
   ]
  },
  {
   "cell_type": "code",
   "execution_count": 4,
   "id": "0aed4b4f",
   "metadata": {
    "scrolled": true
   },
   "outputs": [],
   "source": [
    "# Non-standard columns present, need function to fix\n",
    "#filename = './archive/AllBroadcasts.csv'\n",
    "#AllBroadcasts = pd.read_csv(filename)\n",
    "#AllBroadcasts['UUID'] = AllBroadcasts['UUID'].apply(pd.to_datetime, unit='ms')\n",
    "\n",
    "# Drop bad rows for now...\n",
    "#alphabet_string = string.ascii_lowercase\n",
    "#alphabet_list = list(alphabet_string)\n",
    "\n",
    "#AllBroadcasts[AllBroadcasts['timestamp'].str().isin(alphabet_list)]\n",
    "\n",
    "#indexID = AllBroadcasts[(AllBroadcasts['timestamp'] >= 21)].index\n",
    "#AllBroadcasts.drop(indexID, inplace = True)\n",
    "\n",
    "\n",
    "#AllBroadcasts.head(3)"
   ]
  },
  {
   "cell_type": "code",
   "execution_count": 5,
   "id": "85bb652e",
   "metadata": {},
   "outputs": [
    {
     "name": "stdout",
     "output_type": "stream",
     "text": [
      "['97bb95f55a']\n",
      "(298, 20)\n"
     ]
    }
   ],
   "source": [
    "filename = './archive/AppPackages.csv'\n",
    "AppPackages = pd.read_csv(filename)    # Ending columns need to be appended into sherlock_version - make function!\n",
    "\n",
    "AppPackages[['UUID','InstallTime']] = AppPackages[['UUID', 'InstallTime']].apply(pd.to_datetime, unit='ms')\n",
    "#AppPackages.drop([])\n",
    "#AppPackages = AppPackages.set_index('UUID')\n",
    "print(AppPackages['UserId'].unique())\n",
    "AppPackages = AppPackages.drop(columns=['UserId'])\n",
    "print(AppPackages.shape)\n",
    "#AppPackages.head(3)"
   ]
  },
  {
   "cell_type": "code",
   "execution_count": 6,
   "id": "a6ff8580",
   "metadata": {},
   "outputs": [
    {
     "name": "stdout",
     "output_type": "stream",
     "text": [
      "[nan  0.]\n",
      "[nan  1.]\n",
      "[nan  0.]\n"
     ]
    },
    {
     "data": {
      "text/html": [
       "<div>\n",
       "<style scoped>\n",
       "    .dataframe tbody tr th:only-of-type {\n",
       "        vertical-align: middle;\n",
       "    }\n",
       "\n",
       "    .dataframe tbody tr th {\n",
       "        vertical-align: top;\n",
       "    }\n",
       "\n",
       "    .dataframe thead th {\n",
       "        text-align: right;\n",
       "    }\n",
       "</style>\n",
       "<table border=\"1\" class=\"dataframe\">\n",
       "  <thead>\n",
       "    <tr style=\"text-align: right;\">\n",
       "      <th></th>\n",
       "      <th>userid</th>\n",
       "      <th>uuid</th>\n",
       "      <th>bluetooth_appearance</th>\n",
       "      <th>bluetooth_class</th>\n",
       "      <th>bluetooth_maddress</th>\n",
       "      <th>bluetooth_mremotebrsf</th>\n",
       "      <th>bluetooth_mvaluenrec</th>\n",
       "      <th>bluetooth_mvaluewbs</th>\n",
       "      <th>bluetooth_name</th>\n",
       "      <th>bluetooth_rssi</th>\n",
       "      <th>bluetooth_timestamp</th>\n",
       "    </tr>\n",
       "  </thead>\n",
       "  <tbody>\n",
       "    <tr>\n",
       "      <th>505898</th>\n",
       "      <td>dd25a68e9e</td>\n",
       "      <td>2016-01-01 00:00:13.838</td>\n",
       "      <td>0.0</td>\n",
       "      <td>5898756</td>\n",
       "      <td>35e9eb2f99cd7bb</td>\n",
       "      <td>NaN</td>\n",
       "      <td>NaN</td>\n",
       "      <td>NaN</td>\n",
       "      <td>47e434c699e2769</td>\n",
       "      <td>-84</td>\n",
       "      <td>2016-01-01 01:59:53.882</td>\n",
       "    </tr>\n",
       "    <tr>\n",
       "      <th>360896</th>\n",
       "      <td>9c75d26567</td>\n",
       "      <td>2016-01-01 00:02:52.449</td>\n",
       "      <td>0.0</td>\n",
       "      <td>5898764</td>\n",
       "      <td>0fee82c4ad940db</td>\n",
       "      <td>NaN</td>\n",
       "      <td>NaN</td>\n",
       "      <td>NaN</td>\n",
       "      <td>22783c089551f24</td>\n",
       "      <td>-92</td>\n",
       "      <td>2016-01-01 02:02:16.803</td>\n",
       "    </tr>\n",
       "    <tr>\n",
       "      <th>3</th>\n",
       "      <td>0a50e09262</td>\n",
       "      <td>2016-01-01 00:03:56.345</td>\n",
       "      <td>0.0</td>\n",
       "      <td>2360320</td>\n",
       "      <td>9a7e5cbd4964aa5</td>\n",
       "      <td>NaN</td>\n",
       "      <td>NaN</td>\n",
       "      <td>NaN</td>\n",
       "      <td>f1b381f94c8f2a1</td>\n",
       "      <td>-97</td>\n",
       "      <td>2016-01-01 02:03:35.953</td>\n",
       "    </tr>\n",
       "  </tbody>\n",
       "</table>\n",
       "</div>"
      ],
      "text/plain": [
       "            userid                    uuid  bluetooth_appearance  \\\n",
       "505898  dd25a68e9e 2016-01-01 00:00:13.838                   0.0   \n",
       "360896  9c75d26567 2016-01-01 00:02:52.449                   0.0   \n",
       "3       0a50e09262 2016-01-01 00:03:56.345                   0.0   \n",
       "\n",
       "        bluetooth_class bluetooth_maddress  bluetooth_mremotebrsf  \\\n",
       "505898          5898756    35e9eb2f99cd7bb                    NaN   \n",
       "360896          5898764    0fee82c4ad940db                    NaN   \n",
       "3               2360320    9a7e5cbd4964aa5                    NaN   \n",
       "\n",
       "        bluetooth_mvaluenrec  bluetooth_mvaluewbs   bluetooth_name  \\\n",
       "505898                   NaN                  NaN  47e434c699e2769   \n",
       "360896                   NaN                  NaN  22783c089551f24   \n",
       "3                        NaN                  NaN  f1b381f94c8f2a1   \n",
       "\n",
       "        bluetooth_rssi     bluetooth_timestamp  \n",
       "505898             -84 2016-01-01 01:59:53.882  \n",
       "360896             -92 2016-01-01 02:02:16.803  \n",
       "3                  -97 2016-01-01 02:03:35.953  "
      ]
     },
     "execution_count": 6,
     "metadata": {},
     "output_type": "execute_result"
    }
   ],
   "source": [
    "# Raw TSV\n",
    "filename = './anon_Bluetooth.tsv'\n",
    "header_list = ['userid', 'uuid', 'bluetooth_appearance', 'bluetooth_class', 'bluetooth_maddress',\n",
    "               'bluetooth_mremotebrsf', 'bluetooth_mvaluenrec', 'bluetooth_mvaluewbs', 'bluetooth_name',\n",
    "              'bluetooth_rssi', 'bluetooth_timestamp']\n",
    "Bluetooth_tsv = pd.read_csv(filename, sep='\\t', names=header_list, parse_dates=['bluetooth_timestamp'])\n",
    "Bluetooth_tsv['uuid'] = (pd.to_datetime(Bluetooth_tsv['uuid'], unit='ms'))     # Convert to datatime\n",
    "Bluetooth_tsv = Bluetooth_tsv.sort_values(by='uuid')                            # Unsorted, so sorting required\n",
    "print(Bluetooth_tsv['bluetooth_mremotebrsf'].unique())  # Nan's... should drop? since depricated\n",
    "print(Bluetooth_tsv['bluetooth_mvaluenrec'].unique())  # Nan's... should drop? since depricated\n",
    "print(Bluetooth_tsv['bluetooth_mvaluewbs'].unique())  # Nan's... should drop? since depricated\n",
    "#print(Bluetooth_tsv.shape)\n",
    "Bluetooth_tsv.head(3)"
   ]
  },
  {
   "cell_type": "code",
   "execution_count": 7,
   "id": "356b2317",
   "metadata": {
    "scrolled": false
   },
   "outputs": [
    {
     "name": "stdout",
     "output_type": "stream",
     "text": [
      "['97bb95f55a']\n",
      "(4398, 10)\n"
     ]
    }
   ],
   "source": [
    "# Kaggle CSV\n",
    "filename = './archive/Bluetooth.csv'\n",
    "Bluetooth = pd.read_csv(filename, parse_dates=['Bluetooth_timestamp'])\n",
    "Bluetooth = Bluetooth.rename(columns={\"UserID\": \"UUID\", \"UUID\": \"UserID\"})   # Header names swapped apparently\n",
    "Bluetooth['UUID'] = Bluetooth['UUID'].apply(pd.to_datetime, unit='ms')\n",
    "#Bluetooth = Bluetooth.set_index('UUID')\n",
    "print(Bluetooth['UserID'].unique())\n",
    "Bluetooth = Bluetooth.drop(columns=['UserID'])\n",
    "print(Bluetooth.shape)\n",
    "#Bluetooth.head(3)"
   ]
  },
  {
   "cell_type": "code",
   "execution_count": 8,
   "id": "eca4ab3d",
   "metadata": {},
   "outputs": [
    {
     "name": "stdout",
     "output_type": "stream",
     "text": [
      "['97bb95f55a']\n",
      "(1748, 6)\n"
     ]
    }
   ],
   "source": [
    "filename = './archive/Calls.csv'\n",
    "Calls = pd.read_csv(filename)\n",
    "Calls[['UUID','Date']] = Calls[['UUID',\n",
    "                                'Date']].apply(pd.to_datetime, unit='ms')\n",
    "Calls['FromContacts'] = Calls['FromContacts'].astype(int)                      # Original True/False\n",
    "#Calls = Calls.set_index('UUID')\n",
    "print(Calls['UserId'].unique())\n",
    "Calls = Calls.drop(columns=['UserId'])\n",
    "print(Calls.shape)\n",
    "#Calls.head(3)"
   ]
  },
  {
   "cell_type": "code",
   "execution_count": 9,
   "id": "ffbb3e19",
   "metadata": {
    "scrolled": true
   },
   "outputs": [
    {
     "name": "stdout",
     "output_type": "stream",
     "text": [
      "['fe186dc437' '5b76bedcac' '860550d355' '97bb95f55a' '97dcbc4c4e'\n",
      " '0a50e09262' '8ef449026a' '68a5ffab20' 'e0bf6beeb3' '6e200090ee'\n",
      " '831b42eaa1' 'ec3b3592f1' '73e9841e35' '1a1a12314b' '6fec24656a'\n",
      " 'd35184bc22' '56d7a3b146' '55bd790216' 'a4f29791af' '55153967c4'\n",
      " 'dd25a68e9e' 'abd6f757b8' '9f7c0cf3ba' '3e9c54bce7' 'a582442b42'\n",
      " 'f68d404dec' '1775bd8416' '8960d74df5' '72edf5f08f' '65f42fb278'\n",
      " 'fd2db8f0be' 'ffaf2c6521' 'bca57e81a1' 'aa2e99301a' '5c1f751a99'\n",
      " '5e9275b594' 'fdbca31c28' '909a83fa62' 'b63c849327' 'cfdf8f8818'\n",
      " 'e22b9f3772' 'b298fa1895' 'd8d16595c6']\n",
      "(513981, 9)\n"
     ]
    },
    {
     "data": {
      "text/html": [
       "<div>\n",
       "<style scoped>\n",
       "    .dataframe tbody tr th:only-of-type {\n",
       "        vertical-align: middle;\n",
       "    }\n",
       "\n",
       "    .dataframe tbody tr th {\n",
       "        vertical-align: top;\n",
       "    }\n",
       "\n",
       "    .dataframe thead th {\n",
       "        text-align: right;\n",
       "    }\n",
       "</style>\n",
       "<table border=\"1\" class=\"dataframe\">\n",
       "  <thead>\n",
       "    <tr style=\"text-align: right;\">\n",
       "      <th></th>\n",
       "      <th>userid</th>\n",
       "      <th>uuid</th>\n",
       "      <th>details</th>\n",
       "      <th>action</th>\n",
       "      <th>actionType</th>\n",
       "      <th>sessionType</th>\n",
       "      <th>version</th>\n",
       "      <th>sessionID</th>\n",
       "      <th>behavior</th>\n",
       "    </tr>\n",
       "  </thead>\n",
       "  <tbody>\n",
       "    <tr>\n",
       "      <th>494619</th>\n",
       "      <td>fe186dc437</td>\n",
       "      <td>2016-01-01 00:14:34.546</td>\n",
       "      <td>Application entered onCreate()</td>\n",
       "      <td>Application started</td>\n",
       "      <td>benign</td>\n",
       "      <td>benign</td>\n",
       "      <td>1.0</td>\n",
       "      <td>27</td>\n",
       "      <td>NaN</td>\n",
       "    </tr>\n",
       "    <tr>\n",
       "      <th>494625</th>\n",
       "      <td>fe186dc437</td>\n",
       "      <td>2016-01-01 00:14:34.701</td>\n",
       "      <td>User started to play a game (name);pearl</td>\n",
       "      <td>Game stared</td>\n",
       "      <td>benign</td>\n",
       "      <td>benign</td>\n",
       "      <td>1.0</td>\n",
       "      <td>27</td>\n",
       "      <td>NaN</td>\n",
       "    </tr>\n",
       "    <tr>\n",
       "      <th>494620</th>\n",
       "      <td>fe186dc437</td>\n",
       "      <td>2016-01-01 00:14:34.810</td>\n",
       "      <td>App entered onResume</td>\n",
       "      <td>App Mode change</td>\n",
       "      <td>benign</td>\n",
       "      <td>benign</td>\n",
       "      <td>1.0</td>\n",
       "      <td>27</td>\n",
       "      <td>NaN</td>\n",
       "    </tr>\n",
       "  </tbody>\n",
       "</table>\n",
       "</div>"
      ],
      "text/plain": [
       "            userid                    uuid  \\\n",
       "494619  fe186dc437 2016-01-01 00:14:34.546   \n",
       "494625  fe186dc437 2016-01-01 00:14:34.701   \n",
       "494620  fe186dc437 2016-01-01 00:14:34.810   \n",
       "\n",
       "                                         details               action  \\\n",
       "494619            Application entered onCreate()  Application started   \n",
       "494625  User started to play a game (name);pearl          Game stared   \n",
       "494620                      App entered onResume      App Mode change   \n",
       "\n",
       "       actionType sessionType version  sessionID  behavior  \n",
       "494619     benign      benign     1.0         27       NaN  \n",
       "494625     benign      benign     1.0         27       NaN  \n",
       "494620     benign      benign     1.0         27       NaN  "
      ]
     },
     "execution_count": 9,
     "metadata": {},
     "output_type": "execute_result"
    }
   ],
   "source": [
    "# Raw TSV\n",
    "filename = './Moriartyprobe.tsv'\n",
    "header_list = ['userid', 'uuid', 'details', 'action', 'actionType', 'sessionType', 'version', 'sessionID', 'behavior']\n",
    "Moriarty_tsv = pd.read_csv(filename, sep='\\t', names=header_list)\n",
    "Moriarty_tsv['uuid'] = (pd.to_datetime(Moriarty_tsv['uuid'], unit='ms'))     # Convert to datatime\n",
    "Moriarty_tsv = Moriarty_tsv.sort_values(by='uuid')                           # Unsorted, so sorting required\n",
    "print(Moriarty_tsv['userid'].unique())\n",
    "print(Moriarty_tsv.shape)\n",
    "Moriarty_tsv.head(3)"
   ]
  },
  {
   "cell_type": "code",
   "execution_count": 10,
   "id": "1daf04a1",
   "metadata": {},
   "outputs": [
    {
     "ename": "SyntaxError",
     "evalue": "unexpected EOF while parsing (<ipython-input-10-2b63d79c0347>, line 13)",
     "output_type": "error",
     "traceback": [
      "\u001b[0;36m  File \u001b[0;32m\"<ipython-input-10-2b63d79c0347>\"\u001b[0;36m, line \u001b[0;32m13\u001b[0m\n\u001b[0;31m    print(Moriarty_tsv['version']\u001b[0m\n\u001b[0m                                 ^\u001b[0m\n\u001b[0;31mSyntaxError\u001b[0m\u001b[0;31m:\u001b[0m unexpected EOF while parsing\n"
     ]
    }
   ],
   "source": [
    "# Feature cleaning: drop odd states\n",
    "print(Moriarty_tsv['actionType'].unique())\n",
    "print(Moriarty_tsv[Moriarty_tsv['actionType'] == 'html'].shape)\n",
    "print(Moriarty_tsv[Moriarty_tsv['actionType'] == 'javascript'].shape)\n",
    "\n",
    "Moriarty_tsv = Moriarty_tsv.drop(Moriarty_tsv[(Moriarty_tsv['actionType'] == 'html') | \n",
    "                                              (Moriarty_tsv['actionType'] == 'javascript')].index)\n",
    "print(Moriarty_tsv.shape)\n",
    "\n",
    "# Feature cleaning: drop v from version\n",
    "print(Moriarty_tsv['version'].unique())\n",
    "Moriarty_tsv['version'] = Moriarty_tsv['version'].astype(str).map(lambda x: x.rstrip('v'))\n",
    "print(Moriarty_tsv['version']"
   ]
  },
  {
   "cell_type": "code",
   "execution_count": null,
   "id": "cca3b819",
   "metadata": {
    "scrolled": true
   },
   "outputs": [],
   "source": [
    "# Kaggle CSV\n",
    "filename = './archive/Moriarty.csv'\n",
    "editTextFile(filename)\n",
    "Moriarty = pd.read_csv('editTextFile.txt')\n",
    "Moriarty['UUID'] = (pd.to_datetime(Moriarty['UUID'], unit='ms'))\n",
    "#Moriarty = Moriarty.set_index('UUID')\n",
    "print(Moriarty['UserId'].unique())\n",
    "Moriarty = Moriarty.drop(columns=['UserId'])\n",
    "print(Moriarty.shape)\n",
    "#Moriarty.head(3)"
   ]
  },
  {
   "cell_type": "code",
   "execution_count": null,
   "id": "531652c1",
   "metadata": {},
   "outputs": [],
   "source": [
    "# Raw TSV\n",
    "filename = './Screenon.tsv'\n",
    "header_list = ['userid', 'uuid', 'screenon', 'timestamp']\n",
    "Screenon_tsv = pd.read_csv(filename, sep='\\t', names=header_list, parse_dates=['timestamp'])\n",
    "Screenon_tsv['uuid'] = (pd.to_datetime(Screenon_tsv['uuid'], unit='ms'))\n",
    "Screenon_tsv = Screenon_tsv.sort_values(by='uuid')\n",
    "Screenon_tsv['screenon'] = Screenon_tsv['screenon'].astype(int)                    # Original True:On / False:Off\n",
    "print(Screenon_tsv['userid'].unique())\n",
    "print(Screenon_tsv.shape)\n",
    "Screenon_tsv.head()"
   ]
  },
  {
   "cell_type": "code",
   "execution_count": null,
   "id": "d0bff81a",
   "metadata": {},
   "outputs": [],
   "source": [
    "# Kaggle CSV\n",
    "filename = './archive/ScreenOn.csv'\n",
    "ScreenOn = pd.read_csv(filename, parse_dates=['Timestamp'])\n",
    "ScreenOn['UUID'] = (pd.to_datetime(ScreenOn['UUID'], unit='ms'))\n",
    "ScreenOn['ScreenOn'] = ScreenOn['ScreenOn'].astype(int)                    # Original True/False\n",
    "#ScreenOn = ScreenOn.set_index('UUID')\n",
    "print(ScreenOn['UserID'].unique())\n",
    "ScreenOn = ScreenOn.drop(columns=['UserID'])\n",
    "print(ScreenOn.shape)\n",
    "#ScreenOn.head(3)"
   ]
  },
  {
   "cell_type": "code",
   "execution_count": null,
   "id": "e9fc937d",
   "metadata": {
    "scrolled": true
   },
   "outputs": [],
   "source": [
    "filename = './archive/SMS.csv'\n",
    "SMS = pd.read_csv(filename)\n",
    "SMS[['UUID','Date']] = SMS[['UUID','Date']].apply(pd.to_datetime, unit='ms')\n",
    "SMS[['ContainsURL', 'FromContacts']] = SMS[['ContainsURL', \n",
    "                                            'FromContacts']].astype(int)   # Original True/False\n",
    "#SMS = SMS.set_index('UUID')\n",
    "print(SMS['UserId'].unique())\n",
    "SMS = SMS.drop(columns=['UserId'])\n",
    "print(SMS.shape)\n",
    "#SMS.head(3)"
   ]
  },
  {
   "cell_type": "code",
   "execution_count": null,
   "id": "0dde301d",
   "metadata": {
    "scrolled": false
   },
   "outputs": [],
   "source": [
    "filename = './archive/T0.csv'\n",
    "T0 = pd.read_csv(filename, parse_dates=['Telephoney_timestemp', \n",
    "                                        'SystemInfo_timestemp'])\n",
    "T0['UUID'] = (pd.to_datetime(T0['UUID'], unit='ms'))\n",
    "#T0 = T0.set_index('UUID')\n",
    "print(T0['UserId'].unique())\n",
    "T0 = T0.drop(columns=['UserId'])\n",
    "print(T0.shape)\n",
    "#T0.head(3)"
   ]
  },
  {
   "cell_type": "code",
   "execution_count": null,
   "id": "a8a9379b",
   "metadata": {},
   "outputs": [],
   "source": [
    "# Raw TSV\n",
    "filename = './a_anon_T1.tsv'\n",
    "header_list = ['userid', 'uuid', 'version', 'googleplayloc_speed','googleplayloc_maccuracy',\n",
    "               'googleplayloc_timestamp','celltower_cid','celltower_lac','celltower_psc',\n",
    "               'celltower_timestamp','celltower_type','status_alarmvol','status_brightnessmode',\n",
    "               'status_brightness_file','status_brightness_settings','status_dtmfvol','status_musicvol',\n",
    "               'status_notificationvol','status_orientation','status_ringermode','status_ringtonevol',\n",
    "               'status_systemvol','status_voicecallvol','status_timestamp',\n",
    "               'location_spatio_5means','location_spatio_10means','location_spatio_25means',\n",
    "               'location_spatio_50means','location_spatio_75means','location_spatio_100means',\n",
    "               'location_spatioTemporal_day_5means','location_spatioTemporal_day_25means',\n",
    "               'location_spatioTemporal_day_100means','location_spatioTemporal_week_5means',\n",
    "               'location_spatioTemporal_week_25means','location_spatioTemporal_week_100means']\n",
    "T1_tsv = pd.read_csv(filename, sep='\\t', names=header_list, parse_dates=['googleplayloc_timestamp',\n",
    "                                                                        'celltower_timestamp',\n",
    "                                                                        'status_timestamp'])\n",
    "T1_tsv['uuid'] = (pd.to_datetime(T1_tsv['uuid'], unit='ms'))\n",
    "T1_tsv = T1_tsv.sort_values(by='uuid')\n",
    "#print(T1_tsv['userid'].unique())\n",
    "print(T1_tsv.shape)\n",
    "T1_tsv.head(3)"
   ]
  },
  {
   "cell_type": "code",
   "execution_count": null,
   "id": "2d04c7d0",
   "metadata": {
    "scrolled": true
   },
   "outputs": [],
   "source": [
    "# CSV\n",
    "filename = './archive/T1.csv'\n",
    "T1 = pd.read_csv(filename, parse_dates=['GooglePlayLoc_timestamp', \n",
    "                                        'CellTower_timestamp', \n",
    "                                        'Status_timestamp'])\n",
    "T1['UUID'] = (pd.to_datetime(T1['UUID'], unit='ms'))\n",
    "#T1 = T1.set_index('UUID')\n",
    "print(T1['UserID'].unique())\n",
    "T1 = T1.drop(columns=['UserID'])\n",
    "print(T1.shape)\n",
    "#T1.head(3)"
   ]
  },
  {
   "cell_type": "code",
   "execution_count": null,
   "id": "72f36dc2",
   "metadata": {},
   "outputs": [],
   "source": [
    "filename = './archive/T2.csv'\n",
    "T2 = pd.read_csv(filename, parse_dates=['TimeStemp'], low_memory=False)\n",
    "T2['UUID'] = (pd.to_datetime(T2['UUID'], unit='ms'))\n",
    "#T2 = T2.set_index('UUID')\n",
    "print(T2['UserID'].unique())\n",
    "T2 = T2.drop(columns=['UserID'])\n",
    "print(T2.shape)\n",
    "#T2.head(3)"
   ]
  },
  {
   "cell_type": "code",
   "execution_count": null,
   "id": "3fcb64f3",
   "metadata": {
    "scrolled": true
   },
   "outputs": [],
   "source": [
    "filename = './archive/T3.csv'\n",
    "T3 = pd.read_csv(filename, parse_dates=['Audio_timestemp', \n",
    "                                        'Light_timestamp'], low_memory=False)\n",
    "T3['UUID'] = (pd.to_datetime(T3['UUID'], unit='ms'))\n",
    "#T3 = T3.set_index('UUID')\n",
    "#print(T3['Userid'].unique())\n",
    "T3 = T3.drop(columns=['Userid'])\n",
    "print(T3.shape)\n",
    "#3.head(3)"
   ]
  },
  {
   "cell_type": "code",
   "execution_count": 47,
   "id": "54aefd13",
   "metadata": {},
   "outputs": [
    {
     "name": "stderr",
     "output_type": "stream",
     "text": [
      "/Users/kent/opt/anaconda3/envs/sherlock/lib/python3.9/site-packages/IPython/core/interactiveshell.py:3165: DtypeWarning: Columns (2,34,37,39) have mixed types.Specify dtype option on import or set low_memory=False.\n",
      "  has_raised = await self.run_ast_nodes(code_ast.body, cell_name,\n"
     ]
    },
    {
     "name": "stdout",
     "output_type": "stream",
     "text": [
      "(2359469, 26)\n"
     ]
    },
    {
     "data": {
      "text/html": [
       "<div>\n",
       "<style scoped>\n",
       "    .dataframe tbody tr th:only-of-type {\n",
       "        vertical-align: middle;\n",
       "    }\n",
       "\n",
       "    .dataframe tbody tr th {\n",
       "        vertical-align: top;\n",
       "    }\n",
       "\n",
       "    .dataframe thead th {\n",
       "        text-align: right;\n",
       "    }\n",
       "</style>\n",
       "<table border=\"1\" class=\"dataframe\">\n",
       "  <thead>\n",
       "    <tr style=\"text-align: right;\">\n",
       "      <th></th>\n",
       "      <th>userid</th>\n",
       "      <th>uuid</th>\n",
       "      <th>version</th>\n",
       "      <th>CpuHertz</th>\n",
       "      <th>CPU_0</th>\n",
       "      <th>CPU_1</th>\n",
       "      <th>CPU_2</th>\n",
       "      <th>CPU_3</th>\n",
       "      <th>Total_CPU</th>\n",
       "      <th>TotalMemory_freeSize</th>\n",
       "      <th>TotalMemory_max_size</th>\n",
       "      <th>TotalMemory_total_size</th>\n",
       "      <th>TotalMemory_used_size</th>\n",
       "      <th>Traffic_MobileRxBytes</th>\n",
       "      <th>Traffic_MobileRxPackets</th>\n",
       "      <th>Traffic_MobileTxBytes</th>\n",
       "      <th>Traffic_MobileTxPackets</th>\n",
       "      <th>Traffic_TotalRxBytes</th>\n",
       "      <th>Traffic_TotalRxPackets</th>\n",
       "      <th>Traffic_TotalTxBytes</th>\n",
       "      <th>Traffic_TotalTxPackets</th>\n",
       "      <th>Traffic_TotalWifiRxBytes</th>\n",
       "      <th>Traffic_TotalWifiRxPackets</th>\n",
       "      <th>Traffic_TotalWifiTxBytes</th>\n",
       "      <th>Traffic_TotalWifiTxPackets</th>\n",
       "      <th>Traffic_timestamp</th>\n",
       "    </tr>\n",
       "  </thead>\n",
       "  <tbody>\n",
       "    <tr>\n",
       "      <th>937807</th>\n",
       "      <td>3e9c54bce7</td>\n",
       "      <td>2016-03-16 00:00:00.861</td>\n",
       "      <td>2.1.4</td>\n",
       "      <td>2.4 GHz</td>\n",
       "      <td>0.000000</td>\n",
       "      <td>0.000000</td>\n",
       "      <td>0.0</td>\n",
       "      <td>0.000000</td>\n",
       "      <td>0.000000</td>\n",
       "      <td>4732148.0</td>\n",
       "      <td>134217728.0</td>\n",
       "      <td>51235530.0</td>\n",
       "      <td>46503382.0</td>\n",
       "      <td>0.0</td>\n",
       "      <td>0.0</td>\n",
       "      <td>0.0</td>\n",
       "      <td>0.0</td>\n",
       "      <td>0.0</td>\n",
       "      <td>0.0</td>\n",
       "      <td>0.0</td>\n",
       "      <td>0.0</td>\n",
       "      <td>0.0</td>\n",
       "      <td>0.0</td>\n",
       "      <td>0.0</td>\n",
       "      <td>0.0</td>\n",
       "      <td>2016-03-16 02:00:00.768</td>\n",
       "    </tr>\n",
       "    <tr>\n",
       "      <th>12</th>\n",
       "      <td>0a50e09262</td>\n",
       "      <td>2016-03-16 00:00:01.564</td>\n",
       "      <td>2.1.3</td>\n",
       "      <td>1.7 GHz</td>\n",
       "      <td>44.444447</td>\n",
       "      <td>28.571430</td>\n",
       "      <td>0.0</td>\n",
       "      <td>17.647058</td>\n",
       "      <td>22.665733</td>\n",
       "      <td>1488782.0</td>\n",
       "      <td>134217728.0</td>\n",
       "      <td>44722776.0</td>\n",
       "      <td>43233994.0</td>\n",
       "      <td>0.0</td>\n",
       "      <td>0.0</td>\n",
       "      <td>0.0</td>\n",
       "      <td>0.0</td>\n",
       "      <td>0.0</td>\n",
       "      <td>0.0</td>\n",
       "      <td>0.0</td>\n",
       "      <td>0.0</td>\n",
       "      <td>0.0</td>\n",
       "      <td>0.0</td>\n",
       "      <td>0.0</td>\n",
       "      <td>0.0</td>\n",
       "      <td>2016-03-16 02:00:01.480</td>\n",
       "    </tr>\n",
       "    <tr>\n",
       "      <th>484986</th>\n",
       "      <td>1a1a12314b</td>\n",
       "      <td>2016-03-16 00:00:01.628</td>\n",
       "      <td>2.0</td>\n",
       "      <td>2.4 GHz</td>\n",
       "      <td>56.250000</td>\n",
       "      <td>52.941177</td>\n",
       "      <td>40.0</td>\n",
       "      <td>68.750000</td>\n",
       "      <td>54.485294</td>\n",
       "      <td>2775910.0</td>\n",
       "      <td>134217728.0</td>\n",
       "      <td>31671316.0</td>\n",
       "      <td>28895406.0</td>\n",
       "      <td>0.0</td>\n",
       "      <td>0.0</td>\n",
       "      <td>0.0</td>\n",
       "      <td>0.0</td>\n",
       "      <td>0.0</td>\n",
       "      <td>0.0</td>\n",
       "      <td>0.0</td>\n",
       "      <td>0.0</td>\n",
       "      <td>0.0</td>\n",
       "      <td>0.0</td>\n",
       "      <td>0.0</td>\n",
       "      <td>0.0</td>\n",
       "      <td>2016-03-16 02:00:01.569</td>\n",
       "    </tr>\n",
       "    <tr>\n",
       "      <th>481175</th>\n",
       "      <td>1a1a12314b</td>\n",
       "      <td>2016-03-16 00:00:01.628</td>\n",
       "      <td>2.0</td>\n",
       "      <td>2.4 GHz</td>\n",
       "      <td>56.250000</td>\n",
       "      <td>52.941177</td>\n",
       "      <td>40.0</td>\n",
       "      <td>68.750000</td>\n",
       "      <td>54.485294</td>\n",
       "      <td>2775910.0</td>\n",
       "      <td>134217728.0</td>\n",
       "      <td>31671316.0</td>\n",
       "      <td>28895406.0</td>\n",
       "      <td>0.0</td>\n",
       "      <td>0.0</td>\n",
       "      <td>0.0</td>\n",
       "      <td>0.0</td>\n",
       "      <td>0.0</td>\n",
       "      <td>0.0</td>\n",
       "      <td>0.0</td>\n",
       "      <td>0.0</td>\n",
       "      <td>0.0</td>\n",
       "      <td>0.0</td>\n",
       "      <td>0.0</td>\n",
       "      <td>0.0</td>\n",
       "      <td>2016-03-16 02:00:01.569</td>\n",
       "    </tr>\n",
       "    <tr>\n",
       "      <th>1997141</th>\n",
       "      <td>5e9275b594</td>\n",
       "      <td>2016-03-16 00:00:01.647</td>\n",
       "      <td>2.1.4</td>\n",
       "      <td>2.4 GHz</td>\n",
       "      <td>40.000000</td>\n",
       "      <td>83.333330</td>\n",
       "      <td>100.0</td>\n",
       "      <td>37.500000</td>\n",
       "      <td>65.208330</td>\n",
       "      <td>7633472.0</td>\n",
       "      <td>134217728.0</td>\n",
       "      <td>32084960.0</td>\n",
       "      <td>24451488.0</td>\n",
       "      <td>0.0</td>\n",
       "      <td>0.0</td>\n",
       "      <td>0.0</td>\n",
       "      <td>0.0</td>\n",
       "      <td>0.0</td>\n",
       "      <td>0.0</td>\n",
       "      <td>0.0</td>\n",
       "      <td>0.0</td>\n",
       "      <td>0.0</td>\n",
       "      <td>0.0</td>\n",
       "      <td>0.0</td>\n",
       "      <td>0.0</td>\n",
       "      <td>2016-03-16 02:00:01.598</td>\n",
       "    </tr>\n",
       "  </tbody>\n",
       "</table>\n",
       "</div>"
      ],
      "text/plain": [
       "             userid                    uuid version CpuHertz      CPU_0  \\\n",
       "937807   3e9c54bce7 2016-03-16 00:00:00.861   2.1.4  2.4 GHz   0.000000   \n",
       "12       0a50e09262 2016-03-16 00:00:01.564   2.1.3  1.7 GHz  44.444447   \n",
       "484986   1a1a12314b 2016-03-16 00:00:01.628     2.0  2.4 GHz  56.250000   \n",
       "481175   1a1a12314b 2016-03-16 00:00:01.628     2.0  2.4 GHz  56.250000   \n",
       "1997141  5e9275b594 2016-03-16 00:00:01.647   2.1.4  2.4 GHz  40.000000   \n",
       "\n",
       "             CPU_1  CPU_2      CPU_3  Total_CPU  TotalMemory_freeSize  \\\n",
       "937807    0.000000    0.0   0.000000   0.000000             4732148.0   \n",
       "12       28.571430    0.0  17.647058  22.665733             1488782.0   \n",
       "484986   52.941177   40.0  68.750000  54.485294             2775910.0   \n",
       "481175   52.941177   40.0  68.750000  54.485294             2775910.0   \n",
       "1997141  83.333330  100.0  37.500000  65.208330             7633472.0   \n",
       "\n",
       "         TotalMemory_max_size  TotalMemory_total_size  TotalMemory_used_size  \\\n",
       "937807            134217728.0              51235530.0             46503382.0   \n",
       "12                134217728.0              44722776.0             43233994.0   \n",
       "484986            134217728.0              31671316.0             28895406.0   \n",
       "481175            134217728.0              31671316.0             28895406.0   \n",
       "1997141           134217728.0              32084960.0             24451488.0   \n",
       "\n",
       "         Traffic_MobileRxBytes  Traffic_MobileRxPackets  \\\n",
       "937807                     0.0                      0.0   \n",
       "12                         0.0                      0.0   \n",
       "484986                     0.0                      0.0   \n",
       "481175                     0.0                      0.0   \n",
       "1997141                    0.0                      0.0   \n",
       "\n",
       "         Traffic_MobileTxBytes  Traffic_MobileTxPackets  Traffic_TotalRxBytes  \\\n",
       "937807                     0.0                      0.0                   0.0   \n",
       "12                         0.0                      0.0                   0.0   \n",
       "484986                     0.0                      0.0                   0.0   \n",
       "481175                     0.0                      0.0                   0.0   \n",
       "1997141                    0.0                      0.0                   0.0   \n",
       "\n",
       "         Traffic_TotalRxPackets  Traffic_TotalTxBytes  Traffic_TotalTxPackets  \\\n",
       "937807                      0.0                   0.0                     0.0   \n",
       "12                          0.0                   0.0                     0.0   \n",
       "484986                      0.0                   0.0                     0.0   \n",
       "481175                      0.0                   0.0                     0.0   \n",
       "1997141                     0.0                   0.0                     0.0   \n",
       "\n",
       "         Traffic_TotalWifiRxBytes  Traffic_TotalWifiRxPackets  \\\n",
       "937807                        0.0                         0.0   \n",
       "12                            0.0                         0.0   \n",
       "484986                        0.0                         0.0   \n",
       "481175                        0.0                         0.0   \n",
       "1997141                       0.0                         0.0   \n",
       "\n",
       "         Traffic_TotalWifiTxBytes  Traffic_TotalWifiTxPackets  \\\n",
       "937807                        0.0                         0.0   \n",
       "12                            0.0                         0.0   \n",
       "484986                        0.0                         0.0   \n",
       "481175                        0.0                         0.0   \n",
       "1997141                       0.0                         0.0   \n",
       "\n",
       "              Traffic_timestamp  \n",
       "937807  2016-03-16 02:00:00.768  \n",
       "12      2016-03-16 02:00:01.480  \n",
       "484986  2016-03-16 02:00:01.569  \n",
       "481175  2016-03-16 02:00:01.569  \n",
       "1997141 2016-03-16 02:00:01.598  "
      ]
     },
     "execution_count": 47,
     "metadata": {},
     "output_type": "execute_result"
    }
   ],
   "source": [
    "# Raw TSV\n",
    "\n",
    "filename = './T4_filtered.tsv'\n",
    "header_list = ['userid','uuid','version','CpuHertz','CPU_0','CPU_1','CPU_2','CPU_3','Total_CPU',\n",
    "               'TotalMemory_freeSize','TotalMemory_max_size','TotalMemory_total_size','TotalMemory_used_size',\n",
    "               'Traffic_MobileRxBytes','Traffic_MobileRxPackets','Traffic_MobileTxBytes',\n",
    "               'Traffic_MobileTxPackets','Traffic_TotalRxBytes','Traffic_TotalRxPackets','Traffic_TotalTxBytes',\n",
    "               'Traffic_TotalTxPackets','Traffic_TotalWifiRxBytes','Traffic_TotalWifiRxPackets',\n",
    "               'Traffic_TotalWifiTxBytes','Traffic_TotalWifiTxPackets','Traffic_timestamp','Battery_charge_type',\n",
    "               'Battery_current_avg','Battery_health','Battery_icon_small','Battery_invalid_charger',\n",
    "               'Battery_level','Battery_online','Battery_plugged','Battery_present','Battery_scale',\n",
    "               'Battery_status','Battery_technology','Battery_temperature','Battery_timestamp','Battery_voltage',\n",
    "               'MemTotal','MemFree','Buffers','Cached','SwapCached','Active','Inactive','Active_anon',\n",
    "               'Inactive_anon','Active_file','Inactive_file','Unevictable','Mlocked','HighTotal','HighFree',\n",
    "               'LowTotal','LowFree','SwapTotal','SwapFree','Dirty','Writeback','AnonPages','Mapped',\n",
    "               'Shmem','Slab','SReclaimable','SUnreclaim','KernelStack','PageTables','CommitLimit','Committed_AS',\n",
    "               'VmallocTotal','VmallocUsed','VmallocChunk','msmgpio_cpu0','msmgpio_sum_cpu123','wcd9xxx_cpu0',\n",
    "               'wcd9xxx_sum_cpu123','pn547_cpu0','pn547_sum_cpu123','cypress_touchkey_cpu0',\n",
    "               'cypress_touchkey_sum_cpu123','synaptics_rmi4_i2c_cpu0','synaptics_rmi4_i2c_sum_cpu123',\n",
    "               'sec_headset_detect_cpu0','sec_headset_detect_sum_cpu123','flip_cover_cpu0','flip_cover_sum_cpu123',\n",
    "               'home_key_cpu0','home_key_sum_cpu123','volume_down_cpu0','volume_down_sum_cpu123','volume_up_cpu0',\n",
    "               'volume_up_sum_cpu123','companion_cpu0','companion_sum_cpu123','SLIMBUS_cpu0','SLIMBUS_sum_cpu123',\n",
    "               'function_call_interrupts_cpu0','function_call_interrupts_sum_cpu123','cpu123_intr_prs','tot_user',\n",
    "               'tot_nice','tot_system','tot_idle','tot_iowait','tot_irq','tot_softirq','ctxt','btime','processes',\n",
    "               'procs_running','procs_blocked','connectedWifi_SSID','connectedWifi_Level', '117','118','119',\n",
    "              '120', '121','122','123','124','125','126','127','128','129','130']\n",
    "T4_tsv = pd.read_csv(filename, sep='\\t', names=header_list, parse_dates=['Traffic_timestamp'])\n",
    "T4_tsv['uuid'] = (pd.to_datetime(T4_tsv['uuid'], unit='ms'))\n",
    "T4_tsv = T4_tsv.drop(columns=['Battery_charge_type','Battery_current_avg','Battery_health','Battery_icon_small',\n",
    "                              'Battery_invalid_charger','Battery_level','Battery_online','Battery_plugged',\n",
    "                              'Battery_present','Battery_scale','Battery_status','Battery_technology',\n",
    "                              'Battery_temperature','Battery_timestamp','Battery_voltage','MemTotal','MemFree',\n",
    "                              'Buffers','Cached','SwapCached','Active','Inactive','Active_anon','Inactive_anon',\n",
    "                              'Active_file','Inactive_file','Unevictable','Mlocked','HighTotal','HighFree',\n",
    "                              'LowTotal','LowFree','SwapTotal','SwapFree','Dirty','Writeback','AnonPages','Mapped',\n",
    "                              'Shmem','Slab','SReclaimable','SUnreclaim','KernelStack','PageTables','CommitLimit',\n",
    "                              'Committed_AS','VmallocTotal','VmallocUsed','VmallocChunk','msmgpio_cpu0',\n",
    "                              'msmgpio_sum_cpu123','wcd9xxx_cpu0','wcd9xxx_sum_cpu123','pn547_cpu0',\n",
    "                              'pn547_sum_cpu123','cypress_touchkey_cpu0','cypress_touchkey_sum_cpu123',\n",
    "                              'synaptics_rmi4_i2c_cpu0','synaptics_rmi4_i2c_sum_cpu123','sec_headset_detect_cpu0',\n",
    "                              'sec_headset_detect_sum_cpu123','flip_cover_cpu0','flip_cover_sum_cpu123',\n",
    "                              'home_key_cpu0','home_key_sum_cpu123','volume_down_cpu0','volume_down_sum_cpu123',\n",
    "                              'volume_up_cpu0','volume_up_sum_cpu123','companion_cpu0','companion_sum_cpu123',\n",
    "                              'SLIMBUS_cpu0','SLIMBUS_sum_cpu123','function_call_interrupts_cpu0',\n",
    "                              'function_call_interrupts_sum_cpu123','cpu123_intr_prs','tot_user','tot_nice',\n",
    "                              'tot_system','tot_idle','tot_iowait','tot_irq','tot_softirq','ctxt','btime',\n",
    "                              'processes','procs_running','procs_blocked','connectedWifi_SSID',\n",
    "                              'connectedWifi_Level','117','118','119','120', '121','122','123','124','125','126',\n",
    "                              '127','128','129','130'])\n",
    "T4_tsv = T4_tsv.sort_values(by='uuid')\n",
    "#print(T4_tsv['userid'].unique())\n",
    "print(T4_tsv.shape)\n",
    "T4_tsv.head()"
   ]
  },
  {
   "cell_type": "code",
   "execution_count": 46,
   "id": "beb907e3",
   "metadata": {},
   "outputs": [
    {
     "data": {
      "text/html": [
       "<div>\n",
       "<style scoped>\n",
       "    .dataframe tbody tr th:only-of-type {\n",
       "        vertical-align: middle;\n",
       "    }\n",
       "\n",
       "    .dataframe tbody tr th {\n",
       "        vertical-align: top;\n",
       "    }\n",
       "\n",
       "    .dataframe thead th {\n",
       "        text-align: right;\n",
       "    }\n",
       "</style>\n",
       "<table border=\"1\" class=\"dataframe\">\n",
       "  <thead>\n",
       "    <tr style=\"text-align: right;\">\n",
       "      <th></th>\n",
       "      <th>userid</th>\n",
       "      <th>uuid</th>\n",
       "      <th>version</th>\n",
       "      <th>CpuHertz</th>\n",
       "      <th>CPU_0</th>\n",
       "      <th>CPU_1</th>\n",
       "      <th>CPU_2</th>\n",
       "      <th>CPU_3</th>\n",
       "      <th>Total_CPU</th>\n",
       "      <th>TotalMemory_freeSize</th>\n",
       "      <th>TotalMemory_max_size</th>\n",
       "      <th>TotalMemory_total_size</th>\n",
       "      <th>TotalMemory_used_size</th>\n",
       "      <th>Traffic_MobileRxBytes</th>\n",
       "      <th>Traffic_MobileRxPackets</th>\n",
       "      <th>Traffic_MobileTxBytes</th>\n",
       "      <th>Traffic_MobileTxPackets</th>\n",
       "      <th>Traffic_TotalRxBytes</th>\n",
       "      <th>Traffic_TotalRxPackets</th>\n",
       "      <th>Traffic_TotalTxBytes</th>\n",
       "      <th>Traffic_TotalTxPackets</th>\n",
       "      <th>Traffic_TotalWifiRxBytes</th>\n",
       "      <th>Traffic_TotalWifiRxPackets</th>\n",
       "      <th>Traffic_TotalWifiTxBytes</th>\n",
       "      <th>Traffic_TotalWifiTxPackets</th>\n",
       "      <th>Traffic_timestamp</th>\n",
       "    </tr>\n",
       "  </thead>\n",
       "  <tbody>\n",
       "    <tr>\n",
       "      <th>0</th>\n",
       "      <td>0a50e09262</td>\n",
       "      <td>2016-03-16 00:01:17.497</td>\n",
       "      <td>2.1.3</td>\n",
       "      <td>1.7 GHz</td>\n",
       "      <td>10.526316</td>\n",
       "      <td>33.333336</td>\n",
       "      <td>31.250000</td>\n",
       "      <td>29.411766</td>\n",
       "      <td>26.130354</td>\n",
       "      <td>1843602.0</td>\n",
       "      <td>134217728.0</td>\n",
       "      <td>29165580.0</td>\n",
       "      <td>27321978.0</td>\n",
       "      <td>0.0</td>\n",
       "      <td>0.0</td>\n",
       "      <td>0.0</td>\n",
       "      <td>0.0</td>\n",
       "      <td>0.0</td>\n",
       "      <td>0.0</td>\n",
       "      <td>0.0</td>\n",
       "      <td>0.0</td>\n",
       "      <td>0.0</td>\n",
       "      <td>0.0</td>\n",
       "      <td>0.0</td>\n",
       "      <td>0.0</td>\n",
       "      <td>2016-03-16 02:01:17.336</td>\n",
       "    </tr>\n",
       "    <tr>\n",
       "      <th>1</th>\n",
       "      <td>0a50e09262</td>\n",
       "      <td>2016-03-16 00:00:57.384</td>\n",
       "      <td>2.1.3</td>\n",
       "      <td>1.7 GHz</td>\n",
       "      <td>0.000000</td>\n",
       "      <td>0.000000</td>\n",
       "      <td>15.384616</td>\n",
       "      <td>6.666667</td>\n",
       "      <td>5.512821</td>\n",
       "      <td>7359136.0</td>\n",
       "      <td>134217728.0</td>\n",
       "      <td>30026000.0</td>\n",
       "      <td>22666864.0</td>\n",
       "      <td>281.0</td>\n",
       "      <td>3.0</td>\n",
       "      <td>225.0</td>\n",
       "      <td>3.0</td>\n",
       "      <td>281.0</td>\n",
       "      <td>3.0</td>\n",
       "      <td>225.0</td>\n",
       "      <td>3.0</td>\n",
       "      <td>0.0</td>\n",
       "      <td>0.0</td>\n",
       "      <td>0.0</td>\n",
       "      <td>0.0</td>\n",
       "      <td>2016-03-16 02:00:57.285</td>\n",
       "    </tr>\n",
       "    <tr>\n",
       "      <th>2</th>\n",
       "      <td>0a50e09262</td>\n",
       "      <td>2016-03-16 00:00:11.557</td>\n",
       "      <td>2.1.3</td>\n",
       "      <td>1.7 GHz</td>\n",
       "      <td>18.750000</td>\n",
       "      <td>0.000000</td>\n",
       "      <td>0.000000</td>\n",
       "      <td>12.500000</td>\n",
       "      <td>7.812500</td>\n",
       "      <td>8309928.0</td>\n",
       "      <td>134217728.0</td>\n",
       "      <td>29703486.0</td>\n",
       "      <td>21393558.0</td>\n",
       "      <td>0.0</td>\n",
       "      <td>0.0</td>\n",
       "      <td>0.0</td>\n",
       "      <td>0.0</td>\n",
       "      <td>0.0</td>\n",
       "      <td>0.0</td>\n",
       "      <td>0.0</td>\n",
       "      <td>0.0</td>\n",
       "      <td>0.0</td>\n",
       "      <td>0.0</td>\n",
       "      <td>0.0</td>\n",
       "      <td>0.0</td>\n",
       "      <td>2016-03-16 02:00:11.475</td>\n",
       "    </tr>\n",
       "    <tr>\n",
       "      <th>3</th>\n",
       "      <td>0a50e09262</td>\n",
       "      <td>2016-03-16 00:01:48.051</td>\n",
       "      <td>2.1.3</td>\n",
       "      <td>1.7 GHz</td>\n",
       "      <td>6.666667</td>\n",
       "      <td>0.000000</td>\n",
       "      <td>0.000000</td>\n",
       "      <td>0.000000</td>\n",
       "      <td>1.666667</td>\n",
       "      <td>8585782.0</td>\n",
       "      <td>134217728.0</td>\n",
       "      <td>31454676.0</td>\n",
       "      <td>22868894.0</td>\n",
       "      <td>0.0</td>\n",
       "      <td>0.0</td>\n",
       "      <td>0.0</td>\n",
       "      <td>0.0</td>\n",
       "      <td>0.0</td>\n",
       "      <td>0.0</td>\n",
       "      <td>0.0</td>\n",
       "      <td>0.0</td>\n",
       "      <td>0.0</td>\n",
       "      <td>0.0</td>\n",
       "      <td>0.0</td>\n",
       "      <td>0.0</td>\n",
       "      <td>2016-03-16 02:01:47.934</td>\n",
       "    </tr>\n",
       "    <tr>\n",
       "      <th>4</th>\n",
       "      <td>0a50e09262</td>\n",
       "      <td>2016-03-16 00:01:07.409</td>\n",
       "      <td>2.1.3</td>\n",
       "      <td>1.7 GHz</td>\n",
       "      <td>6.666667</td>\n",
       "      <td>60.000004</td>\n",
       "      <td>0.000000</td>\n",
       "      <td>0.000000</td>\n",
       "      <td>16.666668</td>\n",
       "      <td>10918016.0</td>\n",
       "      <td>134217728.0</td>\n",
       "      <td>31319920.0</td>\n",
       "      <td>20401904.0</td>\n",
       "      <td>0.0</td>\n",
       "      <td>0.0</td>\n",
       "      <td>0.0</td>\n",
       "      <td>0.0</td>\n",
       "      <td>0.0</td>\n",
       "      <td>0.0</td>\n",
       "      <td>0.0</td>\n",
       "      <td>0.0</td>\n",
       "      <td>0.0</td>\n",
       "      <td>0.0</td>\n",
       "      <td>0.0</td>\n",
       "      <td>0.0</td>\n",
       "      <td>2016-03-16 02:01:07.324</td>\n",
       "    </tr>\n",
       "  </tbody>\n",
       "</table>\n",
       "</div>"
      ],
      "text/plain": [
       "       userid                    uuid version CpuHertz      CPU_0      CPU_1  \\\n",
       "0  0a50e09262 2016-03-16 00:01:17.497   2.1.3  1.7 GHz  10.526316  33.333336   \n",
       "1  0a50e09262 2016-03-16 00:00:57.384   2.1.3  1.7 GHz   0.000000   0.000000   \n",
       "2  0a50e09262 2016-03-16 00:00:11.557   2.1.3  1.7 GHz  18.750000   0.000000   \n",
       "3  0a50e09262 2016-03-16 00:01:48.051   2.1.3  1.7 GHz   6.666667   0.000000   \n",
       "4  0a50e09262 2016-03-16 00:01:07.409   2.1.3  1.7 GHz   6.666667  60.000004   \n",
       "\n",
       "       CPU_2      CPU_3  Total_CPU  TotalMemory_freeSize  \\\n",
       "0  31.250000  29.411766  26.130354             1843602.0   \n",
       "1  15.384616   6.666667   5.512821             7359136.0   \n",
       "2   0.000000  12.500000   7.812500             8309928.0   \n",
       "3   0.000000   0.000000   1.666667             8585782.0   \n",
       "4   0.000000   0.000000  16.666668            10918016.0   \n",
       "\n",
       "   TotalMemory_max_size  TotalMemory_total_size  TotalMemory_used_size  \\\n",
       "0           134217728.0              29165580.0             27321978.0   \n",
       "1           134217728.0              30026000.0             22666864.0   \n",
       "2           134217728.0              29703486.0             21393558.0   \n",
       "3           134217728.0              31454676.0             22868894.0   \n",
       "4           134217728.0              31319920.0             20401904.0   \n",
       "\n",
       "   Traffic_MobileRxBytes  Traffic_MobileRxPackets  Traffic_MobileTxBytes  \\\n",
       "0                    0.0                      0.0                    0.0   \n",
       "1                  281.0                      3.0                  225.0   \n",
       "2                    0.0                      0.0                    0.0   \n",
       "3                    0.0                      0.0                    0.0   \n",
       "4                    0.0                      0.0                    0.0   \n",
       "\n",
       "   Traffic_MobileTxPackets  Traffic_TotalRxBytes  Traffic_TotalRxPackets  \\\n",
       "0                      0.0                   0.0                     0.0   \n",
       "1                      3.0                 281.0                     3.0   \n",
       "2                      0.0                   0.0                     0.0   \n",
       "3                      0.0                   0.0                     0.0   \n",
       "4                      0.0                   0.0                     0.0   \n",
       "\n",
       "   Traffic_TotalTxBytes  Traffic_TotalTxPackets  Traffic_TotalWifiRxBytes  \\\n",
       "0                   0.0                     0.0                       0.0   \n",
       "1                 225.0                     3.0                       0.0   \n",
       "2                   0.0                     0.0                       0.0   \n",
       "3                   0.0                     0.0                       0.0   \n",
       "4                   0.0                     0.0                       0.0   \n",
       "\n",
       "   Traffic_TotalWifiRxPackets  Traffic_TotalWifiTxBytes  \\\n",
       "0                         0.0                       0.0   \n",
       "1                         0.0                       0.0   \n",
       "2                         0.0                       0.0   \n",
       "3                         0.0                       0.0   \n",
       "4                         0.0                       0.0   \n",
       "\n",
       "   Traffic_TotalWifiTxPackets       Traffic_timestamp  \n",
       "0                         0.0 2016-03-16 02:01:17.336  \n",
       "1                         0.0 2016-03-16 02:00:57.285  \n",
       "2                         0.0 2016-03-16 02:00:11.475  \n",
       "3                         0.0 2016-03-16 02:01:47.934  \n",
       "4                         0.0 2016-03-16 02:01:07.324  "
      ]
     },
     "execution_count": 46,
     "metadata": {},
     "output_type": "execute_result"
    }
   ],
   "source": [
    "#T4_dropList = T4_tsv.columns[T4_tsv.isna().any()].tolist()\n",
    "#T4_NaNCounts = T4_tsv[T4_tsv.columns[T4_tsv.isnull().any()]].isnull().sum().sort_values(ascending=True)\n",
    "#T4_NaNCounts.head(50)\n",
    "\n",
    "\n",
    "#T4_NaNCountsDF = pd.DataFrame()\n",
    "#T4_NaNCountsDF.append(T4_NaNCounts, ignore_index=True)"
   ]
  },
  {
   "cell_type": "code",
   "execution_count": null,
   "id": "1ed36f06",
   "metadata": {},
   "outputs": [],
   "source": [
    "# CSV\n",
    "filename = './archive/T4.csv'\n",
    "T4 = pd.read_csv(filename, parse_dates=['Traffic_timestamp', \n",
    "                                        'Battery_timestamp'], low_memory=False)\n",
    "T4['UUID'] = (pd.to_datetime(T4['UUID'], unit='ms'))\n",
    "T4['btime'] = (pd.to_datetime(T4['btime'], unit='s'))\n",
    "#T4 = T4.set_index('UUID')\n",
    "print(T4['Userid'].unique())\n",
    "T4 = T4.drop(columns=['Userid'])\n",
    "print(T4.shape)\n",
    "#T4.head(3)"
   ]
  },
  {
   "cell_type": "code",
   "execution_count": null,
   "id": "5f1ed696",
   "metadata": {},
   "outputs": [],
   "source": [
    "# Raw TSV\n",
    "filename = './Userpresentprobe.tsv'\n",
    "header_list = ['userid', 'uuid', 'timestamp']\n",
    "Userpresentprobe_tsv = pd.read_csv(filename, sep='\\t', names=header_list, parse_dates=['timestamp'])\n",
    "Userpresentprobe_tsv['uuid'] = (pd.to_datetime(Userpresentprobe_tsv['uuid'], unit='ms'))\n",
    "Userpresentprobe_tsv = Userpresentprobe_tsv.sort_values(by='uuid')\n",
    "Userpresentprobe_tsv['UP_status'] = 1\n",
    "print(Userpresentprobe_tsv['userid'].unique())\n",
    "print(Userpresentprobe_tsv.shape)\n",
    "Userpresentprobe_tsv.head()"
   ]
  },
  {
   "cell_type": "code",
   "execution_count": null,
   "id": "1fa79389",
   "metadata": {},
   "outputs": [],
   "source": [
    "# Kaggle CSV\n",
    "filename = './archive/UserPresent.csv'\n",
    "UserPresent = pd.read_csv(filename, parse_dates=['timestamp'])\n",
    "UserPresent['UUID'] = (pd.to_datetime(UserPresent['UUID'], unit='ms'))\n",
    "#UserPresent = UserPresent.set_index('UUID')\n",
    "print(UserPresent['userID'].unique())\n",
    "UserPresent = UserPresent.drop(columns=['userID'])\n",
    "print(UserPresent.shape)\n",
    "#UserPresent.head(3)"
   ]
  },
  {
   "cell_type": "code",
   "execution_count": null,
   "id": "aebd123e",
   "metadata": {},
   "outputs": [],
   "source": [
    "filename = './archive/Wifi.csv'\n",
    "Wifi = pd.read_csv(filename)\n",
    "Wifi['UUID'] = (pd.to_datetime(Wifi['UUID'], unit='ms'))\n",
    "#Wifi = Wifi.set_index('UUID')\n",
    "print(Wifi['UserID'].unique())\n",
    "Wifi = Wifi.drop(columns=['UserID'])\n",
    "print(Wifi.shape)\n",
    "#Wifi.head(3)"
   ]
  },
  {
   "cell_type": "markdown",
   "id": "7eaf604e",
   "metadata": {},
   "source": [
    "## EDA"
   ]
  },
  {
   "cell_type": "markdown",
   "id": "5adfe46e",
   "metadata": {},
   "source": [
    "#### Moriarty exploration"
   ]
  },
  {
   "cell_type": "code",
   "execution_count": null,
   "id": "ada915a9",
   "metadata": {},
   "outputs": [],
   "source": [
    "# TSV\n",
    "print('Moriarty Sessions: ', Moriarty_tsv.sessionType.count())\n",
    "print(Moriarty_tsv.groupby('sessionType')['uuid'].nunique())\n",
    "Moriarty_tsv.groupby('actionType')['uuid'].nunique()\n",
    "# should drop the non-benign/malicious...."
   ]
  },
  {
   "cell_type": "code",
   "execution_count": null,
   "id": "cb72bf5d",
   "metadata": {
    "scrolled": true
   },
   "outputs": [],
   "source": [
    "# CSV\n",
    "print('Moriarty Sessions: ', Moriarty.SessionType.count())\n",
    "#Moriarty.groupby('SessionType')['UUID'].nunique()\n",
    "#Moriarty.groupby('ActionType')['UUID'].nunique()"
   ]
  },
  {
   "cell_type": "code",
   "execution_count": null,
   "id": "5f094898",
   "metadata": {},
   "outputs": [],
   "source": [
    "# TSV\n",
    "print(Moriarty_tsv['sessionID'].value_counts().sort_values())\n",
    "#Moriarty_tsv['sessionID'].unique()\n",
    "#Moriarty_tsv.groupby(['sessionID', 'sessionType']).count()\n",
    "\n",
    "#Moriarty_tsv[Moriarty_tsv['sessionID'] == 15]\n",
    "Moriarty_tsv[Moriarty_tsv['sessionID'].astype(str) == str(3.0)]  "
   ]
  },
  {
   "cell_type": "code",
   "execution_count": null,
   "id": "004cad09",
   "metadata": {},
   "outputs": [],
   "source": [
    "# CSV\n",
    "Moriarty['SessionID'].value_counts()\n",
    "#Moriarty['SessionID'].unique()\n",
    "#Moriarty.groupby(['SessionID', 'SessionType']).count()"
   ]
  },
  {
   "cell_type": "code",
   "execution_count": null,
   "id": "c1cc4d58",
   "metadata": {},
   "outputs": [],
   "source": [
    "# TSV\n",
    "pd.set_option('display.max_rows', 1000)\n",
    "Moriarty_tsv.head(500)"
   ]
  },
  {
   "cell_type": "code",
   "execution_count": null,
   "id": "1516ceff",
   "metadata": {},
   "outputs": [],
   "source": [
    "# CSV\n",
    "#pd.set_option('display.max_rows', 500)\n",
    "Moriarty"
   ]
  },
  {
   "cell_type": "code",
   "execution_count": null,
   "id": "5cc9510a",
   "metadata": {},
   "outputs": [],
   "source": [
    "pd.set_option('display.max_rows', 15)"
   ]
  },
  {
   "cell_type": "markdown",
   "id": "fa05713d",
   "metadata": {},
   "source": [
    "Benign actions"
   ]
  },
  {
   "cell_type": "code",
   "execution_count": null,
   "id": "59c91f8f",
   "metadata": {},
   "outputs": [],
   "source": [
    "Moriarty[Moriarty[\"ActionType\"] == \"benign\"][[\"Details\", \"Action\"]]"
   ]
  },
  {
   "cell_type": "markdown",
   "id": "737e1f82",
   "metadata": {},
   "source": [
    "Malicious"
   ]
  },
  {
   "cell_type": "code",
   "execution_count": null,
   "id": "c600c572",
   "metadata": {
    "scrolled": true
   },
   "outputs": [],
   "source": [
    "Moriarty[Moriarty[\"ActionType\"] == \"malicious\"][[\"Details\", \"Action\"]]"
   ]
  },
  {
   "cell_type": "code",
   "execution_count": null,
   "id": "09dd4c2f",
   "metadata": {},
   "outputs": [],
   "source": [
    "# TSV \n",
    "mSessList = Moriarty_tsv['sessionID'].unique()\n",
    "minT = []\n",
    "maxT = []\n",
    "\n",
    "for i, ses in enumerate(mSessList):\n",
    "    x = Moriarty_tsv[Moriarty_tsv['sessionID'] == ses]['uuid'].min()\n",
    "    y = Moriarty_tsv[Moriarty_tsv['sessionID'] == ses]['uuid'].max()\n",
    "    minT.append(x)\n",
    "    maxT.append(y)\n",
    "\n",
    "MoriartySessions = pd.concat([pd.Series(mSessList,name='sessionID'),\n",
    "                              pd.Series(minT,name='minT'),\n",
    "                              pd.Series(maxT,name='maxT')], axis=1)\n",
    "MoriartySessions['Duration'] = MoriartySessions['maxT'] - MoriartySessions['minT']\n",
    "MoriartySessions"
   ]
  },
  {
   "cell_type": "code",
   "execution_count": null,
   "id": "f4973f2f",
   "metadata": {},
   "outputs": [],
   "source": [
    "# CSV \n",
    "\n",
    "mSessList = Moriarty['SessionID'].unique()\n",
    "minT = []\n",
    "maxT = []\n",
    "\n",
    "for i, ses in enumerate(mSessList):\n",
    "    x = Moriarty[Moriarty['SessionID'] == ses]['UUID'].min()\n",
    "    y = Moriarty[Moriarty['SessionID'] == ses]['UUID'].max()\n",
    "    minT.append(x)\n",
    "    maxT.append(y)\n",
    "\n",
    "MoriartySessions = pd.concat([pd.Series(mSessList,name='SessionID'),\n",
    "                              pd.Series(minT,name='minT'),\n",
    "                              pd.Series(maxT,name='maxT')], axis=1)\n",
    "MoriartySessions['Duration'] = MoriartySessions['maxT'] - MoriartySessions['minT']\n",
    "MoriartySessions"
   ]
  },
  {
   "cell_type": "code",
   "execution_count": null,
   "id": "25cca055",
   "metadata": {},
   "outputs": [],
   "source": [
    "# TSV time series plots of moriarty\n",
    "sns.scatterplot(data=MoriartySessions, x='minT', y=1)\n",
    "plt.gca().invert_yaxis()\n",
    "plt.show()"
   ]
  },
  {
   "cell_type": "code",
   "execution_count": null,
   "id": "88a71e7b",
   "metadata": {},
   "outputs": [],
   "source": [
    "# CSV time series plots of moriarty\n",
    "sns.scatterplot(data=MoriartySessions, x='minT', y=1)\n",
    "plt.gca().invert_yaxis()\n",
    "plt.show()"
   ]
  },
  {
   "cell_type": "code",
   "execution_count": null,
   "id": "7f55d2e2",
   "metadata": {},
   "outputs": [],
   "source": [
    "# TSV duration of moriarty\n",
    "#sns.scatterplot(data=MoriartySessions, x='sessionID', y='Duration')\n",
    "#plt.gca().invert_yaxis()\n",
    "#plt.show()\n",
    "# need to find different x axis, time\n",
    "\n",
    "from datetime import datetime\n",
    "import pandas as pd\n",
    "import matplotlib.pyplot as plt\n",
    "import matplotlib.dates as dt\n",
    "\n",
    "fig = plt.figure()\n",
    "ax = fig.add_subplot(111)\n",
    "ax = ax.xaxis_date()\n",
    "ax = plt.hlines(MoriartySessions.index, dt.date2num(MoriartySessions.minT), dt.date2num(MoriartySessions.maxT))"
   ]
  },
  {
   "cell_type": "code",
   "execution_count": null,
   "id": "039ee0ec",
   "metadata": {},
   "outputs": [],
   "source": [
    "# CSV duration of moriarty\n",
    "sns.scatterplot(data=MoriartySessions, x='SessionID', y='Duration')\n",
    "plt.gca().invert_yaxis()\n",
    "plt.show()"
   ]
  },
  {
   "cell_type": "code",
   "execution_count": null,
   "id": "55685302",
   "metadata": {},
   "outputs": [],
   "source": [
    "# plot intra-session moriarty behavorior"
   ]
  },
  {
   "cell_type": "markdown",
   "id": "78830969",
   "metadata": {},
   "source": [
    "## Feature engineering of Moriarty"
   ]
  },
  {
   "cell_type": "code",
   "execution_count": null,
   "id": "c8a8e41f",
   "metadata": {},
   "outputs": [],
   "source": [
    "# TSV\n",
    "binary = {'benign': 0, 'malicious': 1}\n",
    "Moriarty_tsv = Moriarty_tsv.replace({'actionType':binary})\n",
    "Moriarty_tsv = Moriarty_tsv.replace({'sessionType':binary})\n",
    "Moriarty_tsv"
   ]
  },
  {
   "cell_type": "code",
   "execution_count": null,
   "id": "1a37d0bd",
   "metadata": {},
   "outputs": [],
   "source": [
    "# CSV\n",
    "binary = {'benign': 0, 'malicious': 1}\n",
    "Moriarty = Moriarty.replace({'ActionType':binary})\n",
    "Moriarty = Moriarty.replace({'SessionType':binary})\n",
    "Moriarty"
   ]
  },
  {
   "cell_type": "markdown",
   "id": "deb5fcd0",
   "metadata": {},
   "source": [
    "### Sensors"
   ]
  },
  {
   "cell_type": "code",
   "execution_count": null,
   "id": "2824a96e",
   "metadata": {
    "scrolled": false
   },
   "outputs": [],
   "source": [
    "T2['magAccel'] = magVector(T2,'AccelerometerStat_x_MIDDLE_SAMPLE',\n",
    "                           'AccelerometerStat_y_MIDDLE_SAMPLE',\n",
    "                           'AccelerometerStat_z_MIDDLE_SAMPLE')\n",
    "T2['magMag'] = magVector(T2,'MagneticField_x_MIDDLE_SAMPLE',\n",
    "                           'MagneticField_y_MIDDLE_SAMPLE',\n",
    "                           'MagneticField_z_MIDDLE_SAMPLE')\n",
    "    \n",
    "T2.head(3)"
   ]
  },
  {
   "cell_type": "code",
   "execution_count": null,
   "id": "163355de",
   "metadata": {},
   "outputs": [],
   "source": [
    "# plots of sensors in time..."
   ]
  },
  {
   "cell_type": "markdown",
   "id": "9e71fe1d",
   "metadata": {},
   "source": [
    "## Extract Moriarty across datasets"
   ]
  },
  {
   "cell_type": "code",
   "execution_count": null,
   "id": "42d6b099",
   "metadata": {},
   "outputs": [],
   "source": [
    "# TSV\n",
    "print('Moriarty_tsv.shape', Moriarty_tsv.shape)\n",
    "print('Screenon_tsv.shape', Screenon_tsv.shape)\n",
    "print('Userpresentprobe_tsv',Userpresentprobe_tsv.shape)\n",
    "\n",
    "\n",
    "print(pd.merge(left=Moriarty_tsv, right=Screenon_tsv, left_on='uuid', right_on='uuid').shape)\n",
    "print(pd.merge(left=Moriarty_tsv, right=Userpresentprobe_tsv, left_on='uuid', right_on='uuid').shape)\n",
    "\n",
    "#merged_left = pd.merge(left=Moriarty_tsv, right=Screenon_tsv, how='left', left_on='uuid', right_on='uuid')\n",
    "#merged_left.tail(200)"
   ]
  },
  {
   "cell_type": "markdown",
   "id": "9a9f8e11",
   "metadata": {},
   "source": [
    "### Screen On"
   ]
  },
  {
   "cell_type": "code",
   "execution_count": null,
   "id": "0d790c38",
   "metadata": {},
   "outputs": [],
   "source": [
    "#Moriarty = Moriarty.set_index('UUID')\n",
    "#ScreenOn = ScreenOn.set_index('UUID')\n",
    "\n",
    "Merged = ScreenOn.append(Moriarty, sort=True)\n",
    "#Merged = Merged.sort_index()\n",
    "Merged = Merged.sort_values(by='UUID')\n",
    "\n",
    "Merged['ScreenOn'] = Merged['ScreenOn'].fillna(method=\"pad\")\n",
    "pd.set_option('display.max_rows', 500)\n",
    "Merged"
   ]
  },
  {
   "cell_type": "code",
   "execution_count": null,
   "id": "4c2bac82",
   "metadata": {},
   "outputs": [],
   "source": [
    "filteredMerged = pd.DataFrame()\n",
    "\n",
    "for index, row in MoriartySessions.iterrows():\n",
    "    data = Merged[(Merged['UUID'] > row['minT']) & (Merged['UUID'] < row['maxT'])]\n",
    "    filteredMerged = filteredMerged.append(data, ignore_index=True)\n",
    "    \n",
    "filteredMerged[['SessionID', 'SessionType', 'Version']] = filteredMerged[['SessionID', 'SessionType', 'Version']].fillna(method=\"pad\")"
   ]
  },
  {
   "cell_type": "code",
   "execution_count": null,
   "id": "4fecc660",
   "metadata": {
    "scrolled": true
   },
   "outputs": [],
   "source": [
    "# next steps - integer encode unique - aggregate Success...\n",
    "filteredMerged['Details'].unique()"
   ]
  },
  {
   "cell_type": "code",
   "execution_count": null,
   "id": "2b51cc0e",
   "metadata": {},
   "outputs": [],
   "source": []
  },
  {
   "cell_type": "code",
   "execution_count": null,
   "id": "b7d6d403",
   "metadata": {},
   "outputs": [],
   "source": []
  },
  {
   "cell_type": "code",
   "execution_count": null,
   "id": "17cbd49b",
   "metadata": {},
   "outputs": [],
   "source": [
    "#unit type action type\n",
    "#malicious vs benigin"
   ]
  },
  {
   "cell_type": "code",
   "execution_count": null,
   "id": "7c93318a",
   "metadata": {},
   "outputs": [],
   "source": [
    "###### predict is screen on from magnitude"
   ]
  },
  {
   "cell_type": "code",
   "execution_count": null,
   "id": "1b059e78",
   "metadata": {},
   "outputs": [],
   "source": [
    "#### predict screen on moriarty..."
   ]
  },
  {
   "cell_type": "code",
   "execution_count": null,
   "id": "dfcf4a54",
   "metadata": {
    "scrolled": true
   },
   "outputs": [],
   "source": [
    "sns.distplot(T2['AccelerometerStat_x_MIDDLE_SAMPLE'])\n",
    "plt.title('Histogram: AccelerometerStat_x_MIDDLE_SAMPLE')\n",
    "plt.xlabel('_something_')\n",
    "f = plt.gcf()\n",
    "f.set_size_inches(6,3)\n",
    "plt.show()"
   ]
  },
  {
   "cell_type": "markdown",
   "id": "62cc3da4",
   "metadata": {},
   "source": [
    "### Goofy stuff"
   ]
  },
  {
   "cell_type": "code",
   "execution_count": null,
   "id": "58e529f4",
   "metadata": {},
   "outputs": [],
   "source": [
    "t2_accelero = T2[['AccelerometerStat_x_MIDDLE_SAMPLE', \n",
    "                  'AccelerometerStat_y_MIDDLE_SAMPLE', \n",
    "                  'AccelerometerStat_z_MIDDLE_SAMPLE',\n",
    "                  'pressure_MIDDLE_SAMPLE']]\n",
    "\n",
    "t2_accelero.isnull().values.any()\n",
    "t2_accelero = t2_accelero.dropna()\n",
    "t2_accelero.isnull().values.any()\n",
    "\n",
    "t2_accelero_X = t2_accelero[['AccelerometerStat_x_MIDDLE_SAMPLE', \n",
    "                  'AccelerometerStat_y_MIDDLE_SAMPLE', \n",
    "                  'AccelerometerStat_z_MIDDLE_SAMPLE']]\n",
    "t2_accelero_y = t2_accelero[['pressure_MIDDLE_SAMPLE']]\n",
    "\n",
    "X_train, X_test, y_train, y_test = train_test_split(t2_accelero_X, t2_accelero_y, random_state=42)"
   ]
  },
  {
   "cell_type": "markdown",
   "id": "b185532b",
   "metadata": {},
   "source": [
    "### Pipeline for pipeline assignment"
   ]
  },
  {
   "cell_type": "code",
   "execution_count": null,
   "id": "e50d9016",
   "metadata": {},
   "outputs": [],
   "source": [
    "pipe = Pipeline([('scaler', StandardScaler()), ('lr', LinearRegression())])\n",
    "pipe.fit(X_train, y_train)\n",
    "pipe.score(X_test, y_test)"
   ]
  },
  {
   "cell_type": "markdown",
   "id": "534a7364",
   "metadata": {},
   "source": [
    "Pretty poor, eh?  Well, what would you expect from a random grab..."
   ]
  },
  {
   "cell_type": "markdown",
   "id": "b20119f2",
   "metadata": {},
   "source": [
    "### Pickle the model"
   ]
  },
  {
   "cell_type": "code",
   "execution_count": null,
   "id": "e902e0af",
   "metadata": {},
   "outputs": [],
   "source": [
    "with open('model.pkl', 'wb') as f:\n",
    "    # Pickle the 'data' dictionary using the highest protocol available.\n",
    "    pickle.dump(pipe, f, pickle.HIGHEST_PROTOCOL)"
   ]
  },
  {
   "cell_type": "markdown",
   "id": "835bcb1a",
   "metadata": {},
   "source": [
    "### Create faux-data"
   ]
  },
  {
   "cell_type": "code",
   "execution_count": null,
   "id": "69f91f56",
   "metadata": {
    "scrolled": false
   },
   "outputs": [],
   "source": [
    "print(X_test[0:2].values.tolist())"
   ]
  },
  {
   "cell_type": "code",
   "execution_count": null,
   "id": "17f928ee",
   "metadata": {},
   "outputs": [],
   "source": [
    "#Export as json\n",
    "import json\n",
    "\n",
    "data = X_test[0:2].values.tolist()\n",
    "\n",
    "with open('testdata.json', 'w') as f:\n",
    "    json.dump(data, f)"
   ]
  },
  {
   "cell_type": "markdown",
   "id": "0428171f",
   "metadata": {},
   "source": [
    "### Tests"
   ]
  },
  {
   "cell_type": "code",
   "execution_count": null,
   "id": "5cbc85ae",
   "metadata": {
    "scrolled": true
   },
   "outputs": [],
   "source": [
    "from newdata import newdata\n",
    "newdata"
   ]
  },
  {
   "cell_type": "code",
   "execution_count": null,
   "id": "934b1ca1",
   "metadata": {},
   "outputs": [],
   "source": [
    "with open('model.pkl', 'rb') as f:\n",
    "    # The protocol version used is detected automatically, so we do not\n",
    "    # have to specify it.\n",
    "    pipePKL = pickle.load(f)"
   ]
  },
  {
   "cell_type": "code",
   "execution_count": null,
   "id": "8d05f59d",
   "metadata": {
    "scrolled": true
   },
   "outputs": [],
   "source": [
    "predictions = pipePKL.predict(newdata)\n",
    "print(predictions)"
   ]
  }
 ],
 "metadata": {
  "kernelspec": {
   "display_name": "Python 3",
   "language": "python",
   "name": "python3"
  },
  "language_info": {
   "codemirror_mode": {
    "name": "ipython",
    "version": 3
   },
   "file_extension": ".py",
   "mimetype": "text/x-python",
   "name": "python",
   "nbconvert_exporter": "python",
   "pygments_lexer": "ipython3",
   "version": "3.9.2"
  }
 },
 "nbformat": 4,
 "nbformat_minor": 5
}
